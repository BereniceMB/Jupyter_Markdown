{
 "cells": [
  {
   "cell_type": "markdown",
   "id": "a63c9391",
   "metadata": {},
   "source": [
    "# Éste es el primer Sprint\n",
    "## This is the first sprint\n",
    "### _( Trying my best )_\n",
    "\n",
    "   \n",
    "    "
   ]
  },
  {
   "cell_type": "markdown",
   "id": "0a9478ec",
   "metadata": {},
   "source": [
    "***"
   ]
  },
  {
   "cell_type": "markdown",
   "id": "a71da354",
   "metadata": {},
   "source": [
    "---"
   ]
  },
  {
   "cell_type": "markdown",
   "id": "0b75aece",
   "metadata": {},
   "source": [
    "## Nivel 1\n",
    "- [x] Ejercicio 1: Instala Anaconda con *__Python 3__* y *__Jupyter Notebook__*.\n",
    "- [x] Ejercicio 2: Utilizando *__Jupyter Notebook__* ejecuta algunos _cálculos sencillos_.\n",
    "- [x] Ejercicio 3: Probar crear títulos, listas, cambiar el estilo de la letra o agregar imágenes dentro del Notebook.\n",
    "   "
   ]
  },
  {
   "cell_type": "markdown",
   "id": "e2e428d5",
   "metadata": {},
   "source": [
    "---"
   ]
  },
  {
   "cell_type": "code",
   "execution_count": 1,
   "id": "832444cf",
   "metadata": {},
   "outputs": [
    {
     "name": "stdout",
     "output_type": "stream",
     "text": [
      "Hello Jupyter!\n"
     ]
    }
   ],
   "source": [
    "print('Hello Jupyter!')"
   ]
  },
  {
   "cell_type": "code",
   "execution_count": 2,
   "id": "da4118f5",
   "metadata": {},
   "outputs": [
    {
     "name": "stdout",
     "output_type": "stream",
     "text": [
      "I-love-Python-!\n",
      "-12.0\n",
      "-1.5384615384615385\n",
      "-1\n"
     ]
    }
   ],
   "source": [
    "# Aquí pongo los primeros ejemplos sencillos de cosas hechas en Python\n",
    "\n",
    "def concatenate(*args):\n",
    "    todo_junto=\"-\".join(args)\n",
    "    return todo_junto\n",
    "print(concatenate(\"I\", \"love\", \"Python\", \"!\"))\n",
    "print(20/4-17)\n",
    "print(20/(4-17))\n",
    "print(int(20/(4-17)))"
   ]
  },
  {
   "cell_type": "code",
   "execution_count": 3,
   "id": "d6714de7",
   "metadata": {},
   "outputs": [
    {
     "name": "stdout",
     "output_type": "stream",
     "text": [
      "10\n",
      "20\n",
      "30\n",
      "40\n",
      "50\n",
      "60\n"
     ]
    }
   ],
   "source": [
    "my_list = [10, 20, 30, 40, 50, 60]\n",
    "\n",
    "for x in my_list: \n",
    "    print(x)"
   ]
  },
  {
   "cell_type": "markdown",
   "id": "5541335a",
   "metadata": {},
   "source": [
    "``` python\n",
    "s = \"Syntax highlighting for Python\"\n",
    "print(x)\n",
    "```"
   ]
  },
  {
   "cell_type": "code",
   "execution_count": 4,
   "id": "3d5237ea",
   "metadata": {},
   "outputs": [
    {
     "name": "stdout",
     "output_type": "stream",
     "text": [
      "Syntax highlighting for Python\n"
     ]
    }
   ],
   "source": [
    "s = \"Syntax highlighting for Python\"\n",
    "print(s)"
   ]
  },
  {
   "cell_type": "code",
   "execution_count": 5,
   "id": "5b63e034",
   "metadata": {},
   "outputs": [
    {
     "name": "stdout",
     "output_type": "stream",
     "text": [
      "16\n",
      "(2.3+0j)\n",
      "4.0\n",
      "(-2+4j)\n"
     ]
    }
   ],
   "source": [
    "#Aquí algunos ejemplos de Casting\n",
    "x=complex(2.3)\n",
    "y=float(4)\n",
    "z=4j-2\n",
    "print(int(16.067))\n",
    "print(x)\n",
    "print(y)\n",
    "print(z)"
   ]
  },
  {
   "cell_type": "code",
   "execution_count": 6,
   "id": "bc92145f",
   "metadata": {},
   "outputs": [
    {
     "name": "stdout",
     "output_type": "stream",
     "text": [
      "[1, 2, 3, 4, 5]\n",
      "[1, 2, 0, 4, 5]\n",
      "[1, 2, 3, 4, 5, 6]\n",
      "[1, 2, 3, 4, 5, 6, 7, 8]\n",
      "[1, 2, 3, 4, 5, 6, 1, 2, 3, 4, 5, 6, 1, 2, 3, 4, 5, 6]\n",
      "True\n",
      "False\n",
      "[1, 2, 3, 4, 5, 6, 7]\n",
      "2\n"
     ]
    }
   ],
   "source": [
    "#Aquí algunos ejercicios con listas\n",
    "nums=[1,2,3,4,5]\n",
    "print(nums)\n",
    "nums[2]=0\n",
    "print(nums)\n",
    "nums[2]=3\n",
    "nums.append(6)\n",
    "print(nums)\n",
    "print(nums+[7,8])\n",
    "print(nums*3)\n",
    "print(1 in nums)\n",
    "print(10 in nums)\n",
    "index=6\n",
    "nums.insert(index, 7)\n",
    "print(nums)\n",
    "print(nums.index(3))"
   ]
  },
  {
   "cell_type": "code",
   "execution_count": 7,
   "id": "80bc7e2f",
   "metadata": {},
   "outputs": [
    {
     "name": "stdout",
     "output_type": "stream",
     "text": [
      "5 x 1 = 5\n",
      "5 x 2 = 10\n",
      "5 x 3 = 15\n",
      "5 x 4 = 20\n",
      "5 x 5 = 25\n",
      "5 x 6 = 30\n",
      "5 x 7 = 35\n",
      "5 x 8 = 40\n",
      "5 x 9 = 45\n",
      "5 x 10 = 50\n",
      "Finished!\n"
     ]
    }
   ],
   "source": [
    "#Aquí un ejemplo del loop while y un poco de Strings\n",
    "i=1\n",
    "while i<=10:\n",
    "    txt=\"5 x {} = \"\n",
    "    print(txt.format(i) + str(5*i))\n",
    "    i+=1\n",
    "print(\"Finished!\")"
   ]
  },
  {
   "cell_type": "code",
   "execution_count": 8,
   "id": "dbbc6901",
   "metadata": {},
   "outputs": [
    {
     "name": "stdout",
     "output_type": "stream",
     "text": [
      "Enter a natural number: 9\n",
      "9 es un número impar\n",
      "False\n",
      "True\n",
      "False\n",
      "False\n",
      "True\n"
     ]
    }
   ],
   "source": [
    "#Aquí un ejercicio usando Booleans\n",
    "def numeroPar(x):\n",
    "    if x%2==0:\n",
    "        return True\n",
    "    else:\n",
    "        return False\n",
    "\n",
    "num=int(input(\"Enter a natural number: \"))\n",
    "if numeroPar(num):\n",
    "    print(str(num)+\" es un número par\")\n",
    "else:\n",
    "    print(str(num)+\" es un número impar\")\n",
    "print(num == 25)\n",
    "print(bool(num))\n",
    "print(bool(0))\n",
    "print(bool({}))\n",
    "print(bool(\"Hola\"))"
   ]
  },
  {
   "cell_type": "code",
   "execution_count": 9,
   "id": "a3fc8109",
   "metadata": {},
   "outputs": [
    {
     "name": "stdout",
     "output_type": "stream",
     "text": [
      "1\n",
      "2\n",
      "Skiping 3\n",
      "4\n",
      "5\n"
     ]
    }
   ],
   "source": [
    "#Aquí un ejercicio con el loop while\n",
    "i=1\n",
    "while i<=5:\n",
    "    print(i)\n",
    "    i+=1\n",
    "    if i==3:\n",
    "        print(\"Skiping 3\")\n",
    "        i+=1\n",
    "        continue"
   ]
  },
  {
   "cell_type": "code",
   "execution_count": 10,
   "id": "01b63dc7",
   "metadata": {},
   "outputs": [
    {
     "name": "stdout",
     "output_type": "stream",
     "text": [
      "[0, 1, 2, 3, 4, 5, 6, 7, 8, 9]\n",
      "[5, 7, 9, 11, 13, 15, 17, 19]\n",
      "[15, 13, 11, 9, 7]\n",
      "hello!\n",
      "hello!\n",
      "hello!\n",
      "hello!\n",
      "hello!\n"
     ]
    }
   ],
   "source": [
    "#Aquí un ejercicio usando range\n",
    "numbers=list(range(10))\n",
    "print(numbers)\n",
    "num=list(range(5,20,2))\n",
    "print(num)\n",
    "num=list(range(15,5,-2))\n",
    "print(num)\n",
    "for i in range(5):\n",
    "    print(\"hello!\")"
   ]
  },
  {
   "cell_type": "code",
   "execution_count": 11,
   "id": "12f1f7c5",
   "metadata": {},
   "outputs": [
    {
     "name": "stdout",
     "output_type": "stream",
     "text": [
      "Otro ejemplo:\n",
      "[11, 22, 33, 44, 55]\n",
      "[16, 27, 38, 49, 60]\n"
     ]
    }
   ],
   "source": [
    "#Otro ejemplo usando listas\n",
    "print(\"Otro ejemplo:\")\n",
    "def add_five(x):\n",
    "    return x+5\n",
    "nums=[11,22,33,44,55]\n",
    "print(nums)\n",
    "result=list(map(add_five,nums))\n",
    "print(result)"
   ]
  },
  {
   "cell_type": "code",
   "execution_count": 12,
   "id": "a6a52c30",
   "metadata": {},
   "outputs": [
    {
     "name": "stdout",
     "output_type": "stream",
     "text": [
      "É\n",
      ".\n",
      " \n",
      "s\n",
      "True\n",
      "False\n",
      "será\n",
      "Éste será un String muy largo que amerite poner las tres comillas (o como se llamen).\n"
     ]
    }
   ],
   "source": [
    "#Aquí un ejemplo usando Strings\n",
    "frase = '''Éste será un String muy largo que amerite poner las tres comillas (o como se llamen). Nos sirve este ejemplo para ver que un String es un Array.'''\n",
    "print(frase[0])\n",
    "print(frase[len(frase)-1])\n",
    "print(frase[4])\n",
    "print(frase[5])\n",
    "print(\"este\" in frase)\n",
    "print(\"ejem\" not in frase)\n",
    "print(frase[5:9])\n",
    "print(frase[:len(frase)-59])\n"
   ]
  },
  {
   "cell_type": "code",
   "execution_count": 13,
   "id": "3e37d894",
   "metadata": {},
   "outputs": [
    {
     "name": "stdout",
     "output_type": "stream",
     "text": [
      "H\n",
      "o\n",
      "l\n",
      "a\n",
      " \n",
      "a\n",
      " \n",
      "t\n",
      "o\n",
      "d\n",
      "e\n",
      "s\n",
      "!\n",
      "TODES\n",
      "siempre\n",
      "Hola a tod@s!\n"
     ]
    }
   ],
   "source": [
    "#Más ejemplos utilizando Strings\n",
    "frase2= \"Hola a todes!\"\n",
    "for x in frase2:\n",
    "  print(x)\n",
    "print((frase2[-6:-1]).upper())\n",
    "print(\"SIEMPRE\".lower())\n",
    "print(frase2.replace(\"e\", \"@\"))"
   ]
  },
  {
   "cell_type": "code",
   "execution_count": 14,
   "id": "9a9349d0",
   "metadata": {},
   "outputs": [
    {
     "name": "stdout",
     "output_type": "stream",
     "text": [
      "['María', 'Luis', 'Margarita', 'Pedro!']\n"
     ]
    }
   ],
   "source": [
    "#Seguimos con los Strings\n",
    "nombres = \"María Luis Margarita Pedro!\"\n",
    "print(nombres.split(\" \"))"
   ]
  },
  {
   "cell_type": "markdown",
   "id": "b05ab44a",
   "metadata": {},
   "source": [
    "***"
   ]
  },
  {
   "cell_type": "markdown",
   "id": "2accae40",
   "metadata": {},
   "source": [
    "# Aquí empiezan algunos ejemplos usando Markdown"
   ]
  },
  {
   "cell_type": "markdown",
   "id": "46e8cde8",
   "metadata": {},
   "source": [
    "## _italics_\n",
    "* Use single _underscores_ \\_ or single *asteriks* \\* to get _italics_\n",
    "\n",
    "## __bold__\n",
    "* Use double __underscores__ \\__ or double **asteriks** \\** to get __bold__"
   ]
  },
  {
   "cell_type": "markdown",
   "id": "1445118b",
   "metadata": {},
   "source": [
    "1. Primer ítem de una lista numerada \n",
    "    1. Aquí agregamos subítems\n",
    "    1. En éste usamos símbolos matemáticos usando los conocimientos que tenemos de *__LaTex__*: $\\frac{(\\sqrt[3]{x+y+z})\\cdot(x-4)^2}{\\pi^3}$\n",
    "        1. Para ver la cadena ponemos otro ejemplo:\n",
    "        $\\forall z,y\\in A$ se tiene que: $(z\\rightarrow y) \\Leftrightarrow z=\\exp(y)$\n",
    "1. Segundo ítem de la lista\n",
    "1. Tercer ítem de la misma lista"
   ]
  },
  {
   "cell_type": "markdown",
   "id": "976207f4",
   "metadata": {},
   "source": [
    "---"
   ]
  },
  {
   "cell_type": "markdown",
   "id": "c88b0878",
   "metadata": {},
   "source": [
    "### Una tabla que no dice mucho pero que ya sé hacer :)\n",
    "\n",
    "| Encabezado 1 | Encabezado 2 | Encabezado 3 |\n",
    "|----:|:----:|:----|\n",
    "| Alineado a la izq. | Centrado | Alineado a la der. |\n",
    "| 1 | 2 | 3 |\n",
    "| 4 | 5 | 6 |\n",
    "| 7 | 8 | 9 |\n",
    "| 10 | 11 | 12 |"
   ]
  },
  {
   "cell_type": "markdown",
   "id": "8e649654",
   "metadata": {},
   "source": [
    "---"
   ]
  },
  {
   "cell_type": "markdown",
   "id": "eac52273",
   "metadata": {},
   "source": [
    "### Una imagen\n",
    "*Pintura hecha en casa*\n",
    "\n",
    "![esta2.png](desktop/esta2.png)"
   ]
  },
  {
   "cell_type": "markdown",
   "id": "9262a426",
   "metadata": {},
   "source": [
    "> Ahora veamos si también puedo superar los niveles 2 y 3 de este primer sprint."
   ]
  },
  {
   "cell_type": "markdown",
   "id": "4ffa19eb",
   "metadata": {},
   "source": [
    "# Nivel 2\n",
    "\n",
    "- [x] Ejercicio 1: Exportar el Notebook como **pdf** y como **html**"
   ]
  },
  {
   "cell_type": "markdown",
   "id": "91283c9c",
   "metadata": {},
   "source": [
    "# Nivel 3\n",
    "\n",
    "- [x] Ejercicio 1: Instala **Nbextensions** al *__Notebook__* de *__Jupyter__*\n",
    "\n",
    "Aquí la prueba:\n",
    "![Nbextensions](desktop/Nbextensions.png)"
   ]
  }
 ],
 "metadata": {
  "kernelspec": {
   "display_name": "Python 3 (ipykernel)",
   "language": "python",
   "name": "python3"
  },
  "language_info": {
   "codemirror_mode": {
    "name": "ipython",
    "version": 3
   },
   "file_extension": ".py",
   "mimetype": "text/x-python",
   "name": "python",
   "nbconvert_exporter": "python",
   "pygments_lexer": "ipython3",
   "version": "3.9.7"
  }
 },
 "nbformat": 4,
 "nbformat_minor": 5
}
